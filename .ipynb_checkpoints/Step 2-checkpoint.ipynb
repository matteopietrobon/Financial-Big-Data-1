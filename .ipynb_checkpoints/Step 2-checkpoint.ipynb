{
 "cells": [
  {
   "cell_type": "markdown",
   "metadata": {},
   "source": [
    "## Data Wrangling"
   ]
  },
  {
   "cell_type": "markdown",
   "metadata": {},
   "source": [
    "Once the data had been downloaded, we still had to solve several problems before being able to properly tackle it. Some of them were the following:\n",
    "1. The total amount of data was bigger than twice the RAMs of our computers combined -> it could not be stored confortably in one single file but keeping everything separated was not practical either\n",
    "2. Our files reported tick-by-tick transactions and they were obviously not syncronized across currencies\n",
    "3. The timestamp was read as a string and not as a datetime object\n",
    "\n",
    "To solve the first issue we decided to create one aggregate file with all the currencies for every month of data. In this way, not only we have reduced the total number of files but it was also much easier to investigate cross-currency interactions.\n",
    "\n",
    "Regarding the second problem, we did not want to lose the resolution of our data, so we decided to use a join-outer on the timestamp. In this way, we obtained a very sparse dataframe that was filled forward to avoid computational issues.\n",
    "\n",
    "Finally, we managed to convert the string to a datetime object with the *to_datetime* module of Pandas."
   ]
  },
  {
   "cell_type": "code",
   "execution_count": null,
   "metadata": {
    "collapsed": true
   },
   "outputs": [],
   "source": []
  },
  {
   "cell_type": "code",
   "execution_count": null,
   "metadata": {
    "collapsed": true
   },
   "outputs": [],
   "source": []
  },
  {
   "cell_type": "code",
   "execution_count": null,
   "metadata": {
    "collapsed": true
   },
   "outputs": [],
   "source": []
  },
  {
   "cell_type": "code",
   "execution_count": null,
   "metadata": {
    "collapsed": true
   },
   "outputs": [],
   "source": []
  },
  {
   "cell_type": "code",
   "execution_count": null,
   "metadata": {
    "collapsed": true
   },
   "outputs": [],
   "source": []
  }
 ],
 "metadata": {
  "kernelspec": {
   "display_name": "Python 3",
   "language": "python",
   "name": "python3"
  },
  "language_info": {
   "codemirror_mode": {
    "name": "ipython",
    "version": 3
   },
   "file_extension": ".py",
   "mimetype": "text/x-python",
   "name": "python",
   "nbconvert_exporter": "python",
   "pygments_lexer": "ipython3",
   "version": "3.6.2"
  }
 },
 "nbformat": 4,
 "nbformat_minor": 2
}
