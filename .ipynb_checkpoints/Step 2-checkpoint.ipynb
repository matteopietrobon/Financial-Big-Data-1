{
 "cells": [
  {
   "cell_type": "markdown",
   "metadata": {},
   "source": [
    "## Data Wrangling"
   ]
  },
  {
   "cell_type": "markdown",
   "metadata": {},
   "source": [
    "Once the data had been downloaded, we still had to solve several problems before being able to properly tackle it. Some of them were the following:\n",
    "1. The total amount of data was bigger than twice the RAMs of our computers combined -> it could not be stored confortably in one single file but keeping everything separated was not practical either\n",
    "2. Our files reported tick-by-tick transactions and they were obviously not syncronized across currencies\n",
    "3. The timestamp was read as a string and not as a datetime object\n",
    "\n",
    "To solve the first issue we decided to create one aggregate file with all the currencies for every month of data. In this way, not only we have reduced the total number of files but it was also much easier to investigate cross-currency interactions.\n",
    "\n",
    "Regarding the second problem, we did not want to lose the resolution of our data, so we decided to use a join-outer on the timestamp. In this way, we obtained a very sparse dataframe that was filled forward to avoid computational issues. We added another column to the Bid and Ask, in this column we report a one when a trade happened and a zero otherwise.\n",
    "\n",
    "Finally, we managed to convert the string to a datetime object with the *to_datetime* module of Pandas."
   ]
  },
  {
   "cell_type": "code",
   "execution_count": null,
   "metadata": {
    "collapsed": true
   },
   "outputs": [],
   "source": []
  },
  {
   "cell_type": "code",
   "execution_count": 6,
   "metadata": {},
   "outputs": [],
   "source": [
    "import pandas as pd\n",
    "import numpy as np\n",
    "import os\n",
    "\n",
    "w_dir = 'D:/OneDrive/Z - Financial Big Data/project1/Financial-Big-Data-1'\n",
    "os.chdir(w_dir)\n",
    "\n",
    "ccys = ['EURUSD', 'EURCHF']\n",
    "year = '2003'\n",
    "months = ['1','2']\n",
    "\n",
    "for month in months:\n",
    "\n",
    "    x = ccys[0]\n",
    "    file_name = 'Toy Data/DAT_ASCII_'+ x +'_T_'+ year+month.zfill(2)+'.csv'\n",
    "    df = pd.read_csv(file_name, names = ['Ask-'+x, 'Bid-'+x, 'cancella']).iloc[:,:2]\n",
    "    df['traded-'+ x] = np.ones(df.shape[0])\n",
    "\n",
    "    for x in ccys[1:]:\n",
    "        \n",
    "        file_name = 'Toy Data/DAT_ASCII_'+ x +'_T_'+ year+month.zfill(2)+'.csv'\n",
    "        df_temp = pd.read_csv(file_name, names = ['Ask-'+x, 'Bid-'+x, 'cancella']).iloc[:,:2]\n",
    "        df_temp['traded-'+x] = np.ones(df_temp.shape[0])\n",
    "        \n",
    "        df = df.join(df_temp, rsuffix = '-'+x, how = 'outer')\n",
    "    \n",
    "    del df_temp\n",
    "    \n",
    "    #Forward fill and replace nans with zeros\n",
    "    use_columns = []\n",
    "    use_columns_2 = []\n",
    "    \n",
    "    for x in ccys:\n",
    "        use_columns.append('Bid-'+x)\n",
    "        use_columns.append('Ask-'+x)\n",
    "        \n",
    "        use_columns_2.append('traded-'+x)\n",
    "        \n",
    "        \n",
    "    df[use_columns] = df[use_columns].ffill() \n",
    "    df[use_columns_2] = df[use_columns_2].fillna(0) \n",
    "    \n",
    "    df = df.dropna(how='any')\n",
    "\n",
    "\n",
    "    #Change index to datetime\n",
    "\n",
    "    df['datetime'] = pd.to_datetime(df.index.astype(str)+'000',format=\"%Y%m%d %H%M%S%f\")\n",
    "    \n",
    "    df = df.sort_values('datetime')\n",
    "    \n",
    "    \n",
    "    \n",
    "    df_final = pd.DataFrame(df.iloc[:,:-1])\n",
    "    df_final.index = df['datetime']\n",
    "    \n",
    "    df_final.to_hdf('Toy Data/FX-'+year+month.zfill(2)+'.h5', \n",
    "                    'FX'+year+month.zfill(2))\n",
    "   "
   ]
  },
  {
   "cell_type": "code",
   "execution_count": null,
   "metadata": {
    "collapsed": true
   },
   "outputs": [],
   "source": []
  },
  {
   "cell_type": "code",
   "execution_count": null,
   "metadata": {
    "collapsed": true
   },
   "outputs": [],
   "source": []
  },
  {
   "cell_type": "code",
   "execution_count": null,
   "metadata": {
    "collapsed": true
   },
   "outputs": [],
   "source": []
  }
 ],
 "metadata": {
  "kernelspec": {
   "display_name": "Python 3",
   "language": "python",
   "name": "python3"
  },
  "language_info": {
   "codemirror_mode": {
    "name": "ipython",
    "version": 3
   },
   "file_extension": ".py",
   "mimetype": "text/x-python",
   "name": "python",
   "nbconvert_exporter": "python",
   "pygments_lexer": "ipython3",
   "version": "3.6.2"
  }
 },
 "nbformat": 4,
 "nbformat_minor": 2
}
