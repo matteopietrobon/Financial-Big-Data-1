{
 "cells": [
  {
   "cell_type": "markdown",
   "metadata": {},
   "source": [
    "## Downloading the Data"
   ]
  },
  {
   "cell_type": "markdown",
   "metadata": {},
   "source": [
    "We decided to work on FX high frequency data. We downloaded the data from this [website][1].\n",
    "\n",
    "We focused on 5 currency pairs:\n",
    "- EUR USD\n",
    "- EUR CHF\n",
    "- EUR GBP\n",
    "- EUR JPY\n",
    "- EUR AUD\n",
    "\n",
    "The time series start on January 1st 2003 and end on December 31st 2016. The resolution of the data was initially lower (seconds) and increases up to milliseconds.\n",
    "\n",
    "\n",
    "[1]: http://www.histdata.com/download-free-forex-historical-data/?/ascii/tick-data-quotes"
   ]
  },
  {
   "cell_type": "markdown",
   "metadata": {},
   "source": [
    "We had to download a different file for every currency, year and month (5 x 14 x 12 = 840). Therefore, we decided to automate the process. The 'download' link was a javascript on the web page so we had to use the *Selenium* package to click on it. We ran this script overnight and stored the data locally.\n",
    "\n",
    "The files were zipped, we are already unzipping them to feed them directly to the next step.\n",
    "\n",
    "Here is a simplified version of the code that we used where we are only downloading 2 months of 2 currency pairs.\n",
    "\n",
    "__NOTE__: If you want to run it, replace the working directory and the download path with their equivalent in your machine."
   ]
  },
  {
   "cell_type": "code",
   "execution_count": 4,
   "metadata": {
    "collapsed": true
   },
   "outputs": [],
   "source": [
    "from selenium import webdriver\n",
    "import time\n",
    "import os\n",
    "import zipfile\n",
    "\n",
    "w_dir = 'D:/OneDrive/Z - Financial Big Data/project1/Financial-Big-Data-1'\n",
    "download_path = \"C:/Users/teogo/Downloads/\"\n",
    "            \n",
    "directory = w_dir+'/Toy Data'\n",
    "\n",
    "os.chdir(w_dir)\n",
    "if not os.path.exists(directory):\n",
    "    os.makedirs(directory)\n",
    "\n",
    "driver = webdriver.Chrome()\n",
    "\n",
    "ccys = ['eurusd','eurchf']\n",
    "\n",
    "for ccy in ccys:\n",
    "    for year_int in range(2003,2004): \n",
    "        year = str(year_int)\n",
    "        for month_int in range(1,3): \n",
    "        \n",
    "            month = str(month_int)\n",
    "            url = 'http://www.histdata.com/download-free-forex-historical-data/?/ascii/tick-data-quotes/'\\\n",
    "                  +ccy+'/'+year+'/'+month\n",
    "            driver.get(url)\n",
    "            if month_int ==1:\n",
    "                # We need to wait for the cookies-message to go away\n",
    "                time.sleep(20)\n",
    "            else:\n",
    "                time.sleep(10)\n",
    "                \n",
    "            \n",
    "            file_name = 'HISTDATA_COM_ASCII_'+ccy.upper()+'_T_'+year+month.zfill(2)+'.zip'\n",
    "            link = driver.find_element_by_link_text(file_name)\n",
    "            \n",
    "            link.click()\n",
    "        \n",
    "    \n",
    "    \n",
    "    time.sleep(20)\n",
    "    \n",
    "    \n",
    "    \n",
    "    for year_int in range(2003,2004): \n",
    "        year = str(year_int)\n",
    "        for month_int in range(1,3):\n",
    "        \n",
    "            month = str(month_int)\n",
    "            file_name = 'HISTDATA_COM_ASCII_'+ccy.upper()+'_T'+year+month.zfill(2)+'.zip'\n",
    "            \n",
    "            with zipfile.ZipFile(download_path+file_name,\"r\") as zip_ref:\n",
    "                zip_ref.extractall(directory)\n",
    "                \n",
    "            time.sleep(10)\n",
    "            \n",
    "driver.close()  \n",
    "        "
   ]
  }
 ],
 "metadata": {
  "kernelspec": {
   "display_name": "Python 3",
   "language": "python",
   "name": "python3"
  },
  "language_info": {
   "codemirror_mode": {
    "name": "ipython",
    "version": 3
   },
   "file_extension": ".py",
   "mimetype": "text/x-python",
   "name": "python",
   "nbconvert_exporter": "python",
   "pygments_lexer": "ipython3",
   "version": "3.6.2"
  }
 },
 "nbformat": 4,
 "nbformat_minor": 2
}
